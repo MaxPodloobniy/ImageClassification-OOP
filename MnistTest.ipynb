{
 "cells": [
  {
   "cell_type": "code",
   "execution_count": null,
   "metadata": {
    "collapsed": true
   },
   "outputs": [],
   "source": [
    "import numpy as np\n",
    "import matplotlib.pyplot as plt\n",
    "from MnistClassifier import MnistClassifier"
   ]
  },
  {
   "cell_type": "code",
   "execution_count": null,
   "outputs": [],
   "source": [
    "# Функція для відображення зображення\n",
    "def show_image(image, label):\n",
    "    plt.imshow(image, cmap=\"gray\")\n",
    "    plt.title(f\"Label: {label}\")\n",
    "    plt.axis(\"off\")\n",
    "    plt.show()\n",
    "\n",
    "# Тестування моделей\n",
    "models = ['rf', 'nn', 'cnn']\n",
    "\n",
    "for model_type in models:\n",
    "    print(f\"\\nTesting model: {model_type}\\n\")\n",
    "\n",
    "    classifier = MnistClassifier(alg_type=model_type)\n",
    "    classifier.train()\n",
    "    predictions = classifier.predict()\n",
    "\n",
    "    # Візуалізація передбаченого результату для першого зображення\n",
    "    (_, y_test), (X_test, _) = classifier.dataset\n",
    "    first_image = X_test[0].reshape(28, 28) if model_type == 'rf' else X_test[0]\n",
    "    predicted_label = np.argmax(predictions[0]) if model_type in ['nn', 'cnn'] else predictions[0]\n",
    "\n",
    "    show_image(first_image, predicted_label)\n",
    "    print(f\"Predicted label: {predicted_label}, True label: {y_test[0]}\")\n"
   ],
   "metadata": {
    "collapsed": false
   }
  }
 ],
 "metadata": {
  "kernelspec": {
   "display_name": "Python 3",
   "language": "python",
   "name": "python3"
  },
  "language_info": {
   "codemirror_mode": {
    "name": "ipython",
    "version": 2
   },
   "file_extension": ".py",
   "mimetype": "text/x-python",
   "name": "python",
   "nbconvert_exporter": "python",
   "pygments_lexer": "ipython2",
   "version": "2.7.6"
  }
 },
 "nbformat": 4,
 "nbformat_minor": 0
}
